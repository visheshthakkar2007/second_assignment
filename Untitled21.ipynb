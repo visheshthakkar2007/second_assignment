{
  "nbformat": 4,
  "nbformat_minor": 0,
  "metadata": {
    "colab": {
      "provenance": [],
      "authorship_tag": "ABX9TyOp+To4La730P2AW+fytRZj",
      "include_colab_link": true
    },
    "kernelspec": {
      "name": "python3",
      "display_name": "Python 3"
    },
    "language_info": {
      "name": "python"
    }
  },
  "cells": [
    {
      "cell_type": "markdown",
      "metadata": {
        "id": "view-in-github",
        "colab_type": "text"
      },
      "source": [
        "<a href=\"https://colab.research.google.com/github/visheshthakkar2007/second_assignment/blob/main/Untitled21.ipynb\" target=\"_parent\"><img src=\"https://colab.research.google.com/assets/colab-badge.svg\" alt=\"Open In Colab\"/></a>"
      ]
    },
    {
      "cell_type": "markdown",
      "source": [
        "1.Discuss string slicing and provide examples.\n",
        "\n",
        "\n",
        "Answer-\n",
        "\n",
        "String slicing in Python refers to extracting a portion or substring from a given string. You can slice a string by specifying the start, stop, and step values.\n",
        "\n",
        "Key Points:\n",
        "\n",
        "Indexing: Python strings are zero-indexed, which means the first character has an index of 0. Negative indices are used to count from the end of the string, where -1 is the last character, -2 is the second last, and so on.\n",
        "\n",
        "Start and stop: If you omit the start index, it defaults to 0. If you omit the stop index, it defaults to the length of the string. Similarly, omitting the step means it will default to 1.\n",
        "\n",
        "\n",
        "\n",
        "\n",
        "\n"
      ],
      "metadata": {
        "id": "inu2fMu_pEQx"
      }
    },
    {
      "cell_type": "code",
      "source": [
        "text = \"Hello, World!\"\n",
        "substring = text[0:5]  # Slicing from index 0 to index 4\n",
        "print(substring)  # Output: Hello\n",
        "text = \"Hello, World!\"\n",
        "substring = text[0:5]  # Slicing from index 0 to index 4\n",
        "print(substring)  # Output: Hello\n"
      ],
      "metadata": {
        "colab": {
          "base_uri": "https://localhost:8080/"
        },
        "id": "RC4bhT9cqPfc",
        "outputId": "9364aa55-d4cd-4062-c14c-0269968764c6"
      },
      "execution_count": null,
      "outputs": [
        {
          "output_type": "stream",
          "name": "stdout",
          "text": [
            "Hello\n",
            "Hello\n"
          ]
        }
      ]
    },
    {
      "cell_type": "code",
      "source": [
        "git remote add origin https://github.com/visheshthakkar2007/second_assignment.git\n",
        "git branch -M main\n",
        "git push -u origin main"
      ],
      "metadata": {
        "colab": {
          "base_uri": "https://localhost:8080/",
          "height": 109
        },
        "id": "bRmgH-LwqQlK",
        "outputId": "ded8bee3-1931-4b16-ff17-f8467cab0f55"
      },
      "execution_count": null,
      "outputs": [
        {
          "output_type": "error",
          "ename": "SyntaxError",
          "evalue": "invalid syntax (<ipython-input-2-2706d212671c>, line 1)",
          "traceback": [
            "\u001b[0;36m  File \u001b[0;32m\"<ipython-input-2-2706d212671c>\"\u001b[0;36m, line \u001b[0;32m1\u001b[0m\n\u001b[0;31m    git remote add origin https://github.com/visheshthakkar2007/second_assignment.git\u001b[0m\n\u001b[0m        ^\u001b[0m\n\u001b[0;31mSyntaxError\u001b[0m\u001b[0;31m:\u001b[0m invalid syntax\n"
          ]
        }
      ]
    },
    {
      "cell_type": "code",
      "source": [],
      "metadata": {
        "id": "jQlFrzf5qRBU"
      },
      "execution_count": null,
      "outputs": []
    }
  ]
}